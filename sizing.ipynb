{
 "cells": [
  {
   "cell_type": "code",
   "execution_count": 1,
   "id": "7b7ffb44-2760-4889-93bc-f774f8b2c584",
   "metadata": {},
   "outputs": [],
   "source": [
    "import numpy as np\n",
    "import matplotlib.pyplot as plt\n",
    "import sympy as sp\n",
    "import scipy as sci"
   ]
  },
  {
   "cell_type": "markdown",
   "id": "777f7a2d-f05f-4562-8d48-c731a6e01265",
   "metadata": {},
   "source": [
    "# Target parameters"
   ]
  },
  {
   "cell_type": "code",
   "execution_count": 2,
   "id": "bd272b03-88e9-4fce-81e3-d372d921a8db",
   "metadata": {},
   "outputs": [],
   "source": [
    "rho = 1.225         # density of air at sea level\n",
    "M_des = 0.3         # desired Mach number\n",
    "a = 343             # speed of sound, sea level, m/s\n",
    "a_nm = 343*1.944    # speed of sound, sea level, knots\n",
    "P = 101300          # Pressure at sea level, pascals"
   ]
  },
  {
   "cell_type": "markdown",
   "id": "6e58ec6c-eaea-4b82-b7ed-cb1980523b2d",
   "metadata": {},
   "source": [
    "# Weight Estimation"
   ]
  },
  {
   "cell_type": "code",
   "execution_count": 3,
   "id": "56a74156-e4e7-477a-911c-00de79b66c57",
   "metadata": {},
   "outputs": [],
   "source": [
    "load = np.array([170, 5400])                 # pax, cargo (ft3)\n",
    "load_density = np.array([195, 7.5])          # mass per pax, per ft3 cargo (lb)\n",
    "weight_load = np.inner(load, load_density)   # "
   ]
  },
  {
   "cell_type": "markdown",
   "id": "07f2dc2d-c544-4262-ac4e-8ea8762845b1",
   "metadata": {},
   "source": [
    "Range and Engine Parameters"
   ]
  },
  {
   "cell_type": "code",
   "execution_count": 4,
   "id": "1b7b0e2d-5085-431a-9b66-6fa7d4d714ee",
   "metadata": {},
   "outputs": [],
   "source": [
    "target_range = 6800        # nm\n",
    "ld_des = 40                # L/D ratio\n",
    "tsfc = 0.25                # thrust specific fuel consumption in *IMPERIAL*"
   ]
  },
  {
   "cell_type": "markdown",
   "id": "0167714b-7a84-4653-8a80-2939a8666bc3",
   "metadata": {},
   "source": [
    "Weight Fractions"
   ]
  },
  {
   "cell_type": "code",
   "execution_count": 5,
   "id": "31207291-3201-4984-9184-5d813f4bbdb8",
   "metadata": {},
   "outputs": [],
   "source": [
    "wf_cruise = np.exp(-target_range/M_des/ld_des/a_nm*tsfc)           # cruise weight fraction\n",
    "wf = np.array([0.9725, 1.0065-0.0325*M_des, wf_cruise, 0.9725])    # weight fractions for TO, climb, cruise, land\n",
    "\n",
    "wf_total = np.prod(wf) # total weight fraction\n",
    "\n",
    "x, y = sp.symbols('x y')\n",
    "\n",
    "to_bound = x*(1 - 1.02*x**-0.06)-(1-wf_total)*x-weight_load # take-off bound from lecture notes\n",
    "w_to = sp.nsolve(to_bound, 500000) # Estimate for Take-Off Weight"
   ]
  },
  {
   "cell_type": "markdown",
   "id": "507a4ad1-973b-4b86-8155-7c77538f628e",
   "metadata": {},
   "source": [
    "# Wing Sizing"
   ]
  },
  {
   "cell_type": "code",
   "execution_count": 6,
   "id": "73e9c6af-2c7f-4ffb-82c6-2b7dfe74f20f",
   "metadata": {},
   "outputs": [],
   "source": [
    "clmax = 1.5 # assume cl_max"
   ]
  },
  {
   "cell_type": "markdown",
   "id": "7e0cfa6d-9141-401e-90be-50f3057ca74f",
   "metadata": {},
   "source": [
    "Plots"
   ]
  },
  {
   "cell_type": "code",
   "execution_count": 7,
   "id": "cf002a2e-64db-4c2a-8060-13ba1ad6397e",
   "metadata": {},
   "outputs": [
    {
     "data": {
      "text/plain": [
       "<Figure size 640x480 with 0 Axes>"
      ]
     },
     "metadata": {},
     "output_type": "display_data"
    },
    {
     "data": {
      "image/png": "[encoded data removed]",
      "text/plain": [
       "<Figure size 640x480 with 1 Axes>"
      ]
     },
     "metadata": {},
     "output_type": "display_data"
    }
   ],
   "source": [
    "from sympy.plotting import plot, plot3d, PlotGrid\n",
    "ax = plt.figure()\n",
    "# Take-Off Bound\n",
    "takeoff = sp.plot_implicit(sp.Eq(10500 - 20.9*x/(rho/rho)/clmax/y - 69.6*sp.sqrt(x/(rho/rho)/clmax), 0), (x, 0, 500), (y, 0, 300), show = False)\n",
    "# Landing Bound\n",
    "land = sp.plot(10500 - 79.4*(x/(rho/rho)/clmax) - 50/sp.tan(3*np.pi/180), show = False,  xlim = [0, 500], ylim = [0, 300])\n",
    "takeoff.append(land[0])\n",
    "\n",
    "alpha_tilde = (P/P)*(1+0.2*M_des**2)**(1.4/0.4) * (1-0.49*np.sqrt(M_des))\n",
    "cd0 = 0.02 # assume value for Cd_0\n",
    "k1 = (clmax/ld_des - cd0)/clmax**2 # quick calculation for k1, ignoring k2\n",
    "q_inf = 0.5*rho*(a*M_des)**2/47.88; # dynamic pressure in lb/ft^2\n",
    "\n",
    "# we assume beta constant for the entire flight and that beta = weight\n",
    "# after take-off and climb-out. This is justified as 1) this will be the\n",
    "# initial state of cruise, so it is the 'least favourable' stage of flight\n",
    "# for simplicity and 2) this will provide an underestimate for the possible\n",
    "# flight envelope, which is better than an overestimate for initial design\n",
    "\n",
    "beta = wf[0]*wf[1]\n",
    "cruise = sp.plot_implicit(sp.Eq(y - beta/alpha_tilde * ((k1 * (beta/q_inf)*x) + cd0/(beta/q_inf)/x), 0), (x, 0, 500), (y, 0, 300), show = False)\n",
    "takeoff.append(cruise[0])\n",
    "takeoff.show()"
   ]
  },
  {
   "cell_type": "markdown",
   "id": "2e1e8880-35ef-46df-8765-22f351dbc2fa",
   "metadata": {},
   "source": [
    "Pick Points"
   ]
  },
  {
   "cell_type": "code",
   "execution_count": 8,
   "id": "b8aa44f2-1d3c-4161-8eed-13cda46c79e7",
   "metadata": {},
   "outputs": [],
   "source": [
    "tw = 0.27 # Thrust to weight ratio\n",
    "ws = 100 # wing loading\n",
    "sref = w_to/ws # reference area (ft2)\n",
    "t0 = w_to*tw # required thrust (lbf)"
   ]
  },
  {
   "cell_type": "markdown",
   "id": "edb720fe-c538-4fb0-ab2c-1d53e4ca7125",
   "metadata": {},
   "source": [
    "# Stabiliser Sizing"
   ]
  },
  {
   "cell_type": "code",
   "execution_count": 9,
   "id": "d95507fc-c78e-4b83-96e0-8866ae555831",
   "metadata": {},
   "outputs": [],
   "source": [
    "# all are in m\n",
    "\n",
    "vh = 1 # tail volume, for reference check https://www.researchgate.net/figure/Typical-Values-of-Tail-Volume-Coefficient_fig12_321107730\n",
    "cref = 5.43 # reference chord\n",
    "cref_t = 3.5; # hs reference chord - assume some value based on main wing chord or take from design\n",
    "cg = 15 # centre of gravity\n",
    "x_h = 42 # location of hs\n",
    "l_t = (x_h + cref_t/4)-(cg + cref/4) # hs distance to neutral point, assuming quarter chord = aerodynamic centre\n",
    "sref_t = vh*cref*sref/l_t; # sref of hs in m^2\n",
    "\n",
    "vv = 0.09 # reference chord\n",
    "cref_vs = 4 # vs reference chord\n",
    "x_v = 40 # vs location\n",
    "l_v = (x_v + cref_vs/4)-(cg + cref/4) # vs distance to neutral point, assuming quarter chord = aerodynamic centre\n",
    "b = 43.48 # wingspan in m\n",
    "sref_v = vv*b*sref/l_v # sref of vs in m^2"
   ]
  },
  {
   "cell_type": "markdown",
   "id": "643a141b-0771-471f-930f-cb573ae252ed",
   "metadata": {},
   "source": [
    "# Compressibility Effects"
   ]
  },
  {
   "cell_type": "code",
   "execution_count": 10,
   "id": "bdd263fc-8a7f-4fc1-8ce3-d647d9e9fc51",
   "metadata": {},
   "outputs": [],
   "source": [
    "# we require M_divergence = M_desired\n",
    "sref_design = 240 # reference area of the actual design\n",
    "ar = b**2/sref_design # aspect ratio of actual design\n",
    "\n",
    "para = np.cos(35*np.pi/180)**2*0.11**2*ar # parameter to select an actual clmax from charts\n",
    "clmax_to = 1.80 # from charts\n",
    "clmax_l = 2.75 # from charts\n",
    "\n",
    "# Jet fuel density = 6.77 lb/US gallon: https://www.flyembraer.com/irj/go/km/docs/download_center/Anonymous/Ergonomia/Home%20Page/Documents/APM_195.pdf\n",
    "jp1_vol = (1-wf_total)*w_to/6.77/264.2; # required jet fuel volume in m^3, compare to design volume"
   ]
  }
 ],
 "metadata": {
  "kernelspec": {
   "display_name": "Python 3 (ipykernel)",
   "language": "python",
   "name": "python3"
  },
  "language_info": {
   "codemirror_mode": {
    "name": "ipython",
    "version": 3
   },
   "file_extension": ".py",
   "mimetype": "text/x-python",
   "name": "python",
   "nbconvert_exporter": "python",
   "pygments_lexer": "ipython3",
   "version": "3.9.13"
  }
 },
 "nbformat": 4,
 "nbformat_minor": 5
}
